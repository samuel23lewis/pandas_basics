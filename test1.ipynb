{
 "cells": [
  {
   "cell_type": "code",
   "execution_count": 2,
   "metadata": {},
   "outputs": [
    {
     "name": "stdout",
     "output_type": "stream",
     "text": [
      "    number name address   rand\n",
      "0        1   AB      AB  585.0\n",
      "1        2   AC     NaN    NaN\n",
      "2        3   AD      AD  410.0\n",
      "3        4  NaN      AE  875.0\n",
      "4        5   AF      AF  669.0\n",
      "..     ...  ...     ...    ...\n",
      "95      96   DS     NaN  358.0\n",
      "96      97   DT      DT  440.0\n",
      "97      98   DU      DU  785.0\n",
      "98      99   DV      DV   67.0\n",
      "99     100   DW      DW    NaN\n",
      "\n",
      "[100 rows x 4 columns]\n"
     ]
    },
    {
     "name": "stderr",
     "output_type": "stream",
     "text": [
      "C:\\Users\\samue\\AppData\\Local\\Temp\\ipykernel_14604\\1784530641.py:1: DeprecationWarning: \n",
      "Pyarrow will become a required dependency of pandas in the next major release of pandas (pandas 3.0),\n",
      "(to allow more performant data types, such as the Arrow string type, and better interoperability with other libraries)\n",
      "but was not found to be installed on your system.\n",
      "If this would cause problems for you,\n",
      "please provide us feedback at https://github.com/pandas-dev/pandas/issues/54466\n",
      "        \n",
      "  import pandas as pd\n"
     ]
    }
   ],
   "source": [
    "import pandas as pd\n",
    "\n",
    "df=pd.read_csv('data1.csv')\n",
    "print(df)"
   ]
  },
  {
   "cell_type": "code",
   "execution_count": 6,
   "metadata": {},
   "outputs": [
    {
     "name": "stdout",
     "output_type": "stream",
     "text": [
      "60\n"
     ]
    }
   ],
   "source": [
    "print(pd.options.display.max_rows)\n",
    "#displays the max number rows"
   ]
  },
  {
   "cell_type": "code",
   "execution_count": 5,
   "metadata": {},
   "outputs": [
    {
     "name": "stdout",
     "output_type": "stream",
     "text": [
      "   number name address   rand\n",
      "0       1   AB      AB  585.0\n",
      "1       2   AC     NaN    NaN\n",
      "2       3   AD      AD  410.0\n",
      "3       4  NaN      AE  875.0\n",
      "4       5   AF      AF  669.0\n"
     ]
    }
   ],
   "source": [
    "print(df.head()) \n",
    "#displays the first 5 rows ny default\n",
    "#mention the limit in the head()"
   ]
  },
  {
   "cell_type": "code",
   "execution_count": 4,
   "metadata": {},
   "outputs": [
    {
     "name": "stdout",
     "output_type": "stream",
     "text": [
      "    number name address   rand\n",
      "80      81  NaN      DD   57.0\n",
      "81      82   DE     NaN  908.0\n",
      "82      83   DF      DF  268.0\n",
      "83      84   DG      DG  362.0\n",
      "84      85   DH      DH  865.0\n",
      "85      86   DI      DI  840.0\n",
      "86      87   DJ      DJ  163.0\n",
      "87      88   DK      DK    NaN\n",
      "88      89   DL      DL  556.0\n",
      "89      90   DM      DM  371.0\n",
      "90      91   DN      DN  449.0\n",
      "91      92   DO      DO  291.0\n",
      "92      93  NaN      DP  302.0\n",
      "93      94   DQ      DQ  844.0\n",
      "94      95   DR      DR  996.0\n",
      "95      96   DS     NaN  358.0\n",
      "96      97   DT      DT  440.0\n",
      "97      98   DU      DU  785.0\n",
      "98      99   DV      DV   67.0\n",
      "99     100   DW      DW    NaN\n"
     ]
    }
   ],
   "source": [
    "print(df.tail(20))\n",
    "#displays the last 5 rows by defalt \n",
    "#mention the limit in the tail()"
   ]
  },
  {
   "cell_type": "code",
   "execution_count": 3,
   "metadata": {},
   "outputs": [
    {
     "name": "stdout",
     "output_type": "stream",
     "text": [
      "<class 'pandas.core.frame.DataFrame'>\n",
      "RangeIndex: 100 entries, 0 to 99\n",
      "Data columns (total 4 columns):\n",
      " #   Column   Non-Null Count  Dtype  \n",
      "---  ------   --------------  -----  \n",
      " 0   number   100 non-null    int64  \n",
      " 1   name     92 non-null     object \n",
      " 2   address  88 non-null     object \n",
      " 3   rand     90 non-null     float64\n",
      "dtypes: float64(1), int64(1), object(2)\n",
      "memory usage: 3.3+ KB\n",
      "None\n"
     ]
    }
   ],
   "source": [
    "print(df.info())\n",
    "#displays the info of the data from the file"
   ]
  }
 ],
 "metadata": {
  "kernelspec": {
   "display_name": "Python 3",
   "language": "python",
   "name": "python3"
  },
  "language_info": {
   "codemirror_mode": {
    "name": "ipython",
    "version": 3
   },
   "file_extension": ".py",
   "mimetype": "text/x-python",
   "name": "python",
   "nbconvert_exporter": "python",
   "pygments_lexer": "ipython3",
   "version": "3.12.0"
  }
 },
 "nbformat": 4,
 "nbformat_minor": 2
}
